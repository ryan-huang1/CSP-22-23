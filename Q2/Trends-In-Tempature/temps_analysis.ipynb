{
 "cells": [
  {
   "cell_type": "code",
   "execution_count": null,
   "metadata": {},
   "outputs": [],
   "source": [
    "# a321_temps_analysis.py\n",
    "# This program uses the pandas module to load a 2-dimensional data sheet into a pandas DataFrame object\n",
    "# Then it will use the matplotlib module to plot a graph and a bar chart\n",
    "import matplotlib.pyplot as plt\n",
    "import pandas as pd"
   ]
  },
  {
   "cell_type": "code",
   "execution_count": null,
   "metadata": {},
   "outputs": [],
   "source": [
    "# Load in the data with read_csv()\n",
    "# TODO #1: change the file name to your data file name\n",
    "temp_data = pd.read_csv(\"/Users/ryanhuang/Documents/GitHub/CSP-22-23/Q2/Trends-In-Tempature/temperature_data.csv\", header=0)   # identify the header row"
   ]
  },
  {
   "cell_type": "code",
   "execution_count": null,
   "metadata": {},
   "outputs": [],
   "source": [
    "# TODO #2: Use matplotlib to make a line graph\n",
    "plt.plot(temp_data['Year'], temp_data['Anomaly'], color='gray')\n",
    "plt.ylabel('Temperature Anomalies in Celsius')\n",
    "plt.xlabel('Years')\n",
    "plt.title('Change in Temperatures')\n",
    "plt.show()"
   ]
  },
  {
   "cell_type": "code",
   "execution_count": null,
   "metadata": {},
   "outputs": [],
   "source": [
    "# TODO #3: Plot LOWESS in a line graph"
   ]
  },
  {
   "cell_type": "code",
   "execution_count": null,
   "metadata": {},
   "outputs": [],
   "source": [
    "# TODO #4: Use matplotlib to make a bar chart\n",
    "plt.bar(temp_data['Year'], temp_data['Anomaly'], align='center', color='green')\n",
    "plt.ylabel('Temperature Anomalies in Celsius')\n",
    "plt.xlabel('Years')\n",
    "plt.title('Change in Temperatures')\n",
    "plt.show()"
   ]
  },
  {
   "cell_type": "code",
   "execution_count": null,
   "metadata": {},
   "outputs": [],
   "source": [
    "# TODO #5: Calculate min, max, and avg anomaly and the corresponding min/max years\n",
    "# TODO #5: Calculate min, max, and avg anomaly and the corresponding min/max years\n",
    "min_anomaly = temp_data['Anomaly'][0]\n",
    "max_anomaly = temp_data['Anomaly'][0]\n",
    "min_year = temp_data['Year'][0]\n",
    "max_year = temp_data['Year'][0]\n",
    "sum_anomaly = 0\n",
    "avg_anomaly = 0\n",
    "\n",
    "# find the min, max and calculate the sum\n",
    "for i in range(len(temp_data['Anomaly'])):\n",
    "  if (temp_data['Anomaly'][i] < min_anomaly):\n",
    "    min_anomaly = temp_data['Anomaly'][i]\n",
    "    min_year = temp_data['Year'][i]\n",
    "  if (temp_data['Anomaly'][i] > max_anomaly):\n",
    "    max_anomaly = temp_data['Anomaly'][i]\n",
    "    max_year = temp_data['Year'][i]\n",
    "  sum_anomaly += temp_data['Anomaly'][i]\n",
    "  avg_anomaly = sum_anomaly/len(temp_data['Anomaly'])\n",
    "\n",
    "print(\"The maximum anomaly is:\", max_anomaly, \"which occured in\", max_year)\n",
    "print(\"The minimum anomaly is:\", min_anomaly, \"which occured in\", min_year)\n",
    "print(\"The average anomaly is:\", avg_anomaly)"
   ]
  }
 ],
 "metadata": {
  "kernelspec": {
   "display_name": "Python 3",
   "language": "python",
   "name": "python3"
  },
  "language_info": {
   "name": "python",
   "version": "3.10.4 (v3.10.4:9d38120e33, Mar 23 2022, 17:29:05) [Clang 13.0.0 (clang-1300.0.29.30)]"
  },
  "orig_nbformat": 4,
  "vscode": {
   "interpreter": {
    "hash": "aee8b7b246df8f9039afb4144a1f6fd8d2ca17a180786b69acc140d282b71a49"
   }
  }
 },
 "nbformat": 4,
 "nbformat_minor": 2
}
